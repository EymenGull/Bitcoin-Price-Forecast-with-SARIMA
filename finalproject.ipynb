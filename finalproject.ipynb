{
 "cells": [
  {
   "cell_type": "code",
   "execution_count": null,
   "id": "72d3b8a0",
   "metadata": {},
   "outputs": [],
   "source": [
    "#Title : Visualizing and Analyzing Stock Market Data\n",
    "\n",
    "#Members : Eymen Gül - 090190746\n",
    "\n",
    "#Summary : Analysis and data visualization of any stock exchange unit will be carried out within this project. \n",
    "#          Based on the time series, forecasting will be made about the future price.\n",
    "#          I am planning to work with 2021 bitcoin 1-min price data. In addition I will search for other price datas.\n",
    "#          I also plan to get hourly and daily data by grouping the data in true order.\n",
    "#          I will also try to find a true arima model for price. \n"
   ]
  }
 ],
 "metadata": {
  "kernelspec": {
   "display_name": "Python 3 (ipykernel)",
   "language": "python",
   "name": "python3"
  },
  "language_info": {
   "codemirror_mode": {
    "name": "ipython",
    "version": 3
   },
   "file_extension": ".py",
   "mimetype": "text/x-python",
   "name": "python",
   "nbconvert_exporter": "python",
   "pygments_lexer": "ipython3",
   "version": "3.9.12"
  }
 },
 "nbformat": 4,
 "nbformat_minor": 5
}
