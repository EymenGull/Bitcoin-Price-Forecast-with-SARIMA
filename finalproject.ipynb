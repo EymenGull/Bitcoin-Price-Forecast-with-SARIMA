{
 "cells": [
  {
   "cell_type": "markdown",
   "id": "d55d6366-f99e-454a-bde2-a7a6b75dbf4a",
   "metadata": {},
   "source": [
    "# Visualizing and Analyzing Stock Market Data\n",
    "\n",
    "## Members \n",
    "\n",
    "Eymen Gül - 090190746\n",
    "\n",
    "## Summary : \n",
    "\n",
    "Analysis and data visualization of any stock exchange unit will be carried out within this project. Based on the time series, forecasting will be made about the future price. I am planning to work with 2021 bitcoin 1-min price data. In addition I will search for other price datas. I also plan to get hourly and daily data by grouping the data in true order. I will also try to find a true arima model for price. \n"
   ]
  },
  {
   "cell_type": "markdown",
   "id": "59ffa92b-80eb-4145-b617-5a420c5e66ce",
   "metadata": {},
   "source": [
    "## Atabey's notes\n",
    "\n",
    "This is not a proposal. I need to see a sample of the dataset and you must explain the data. Also, you need to have a hypothesis and a question. Your hypothesis is that bitcoin prices can be forecast using time series analysis. How are you going to test your forecast model? What is ARIMA? What other methods and techniques are there for you to use? For that you need to write a detailed Methods section. In this section you must explain what available ML algorithms are there suitable for your needs. Which algorithms are you going to choose? Why? How are these ML algorithms going to help you to answer these questions and test your hypotheses? How are you going to test if your experiments and results support or contradict the hypothesis you have given? \n",
    "\n",
    "You must provide a calendar: what are you going to do and when with some explanations.\n",
    "\n",
    "You had 4 weeks to write a proposal and you are sending a paragraph you wrote in 10 minutes. This is not acceptable! Give me something that you spent some time and effort!!"
   ]
  },
  {
   "cell_type": "code",
   "execution_count": null,
   "id": "9b3e9aa9-2391-4412-b119-e3096c82a839",
   "metadata": {},
   "outputs": [],
   "source": []
  }
 ],
 "metadata": {
  "kernelspec": {
   "display_name": "Python 3 (ipykernel)",
   "language": "python",
   "name": "python3"
  },
  "language_info": {
   "codemirror_mode": {
    "name": "ipython",
    "version": 3
   },
   "file_extension": ".py",
   "mimetype": "text/x-python",
   "name": "python",
   "nbconvert_exporter": "python",
   "pygments_lexer": "ipython3",
   "version": "3.10.8"
  }
 },
 "nbformat": 4,
 "nbformat_minor": 5
}
