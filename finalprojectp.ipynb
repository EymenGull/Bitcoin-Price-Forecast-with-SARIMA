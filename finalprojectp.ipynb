{
 "cells": [
  {
   "cell_type": "code",
   "execution_count": 12,
   "id": "2d4048c5",
   "metadata": {},
   "outputs": [],
   "source": [
    "import pandas as pd\n"
   ]
  },
  {
   "cell_type": "code",
   "execution_count": 18,
   "id": "c243bc68",
   "metadata": {},
   "outputs": [
    {
     "name": "stdout",
     "output_type": "stream",
     "text": [
      "Hypothesis : Bitcoin price can be predicted with near accuracy using time series analysis methods.\n",
      "Question   : What is the best way to pedict Bitcoin price according to time series analysis?\n"
     ]
    }
   ],
   "source": [
    "print(\"Hypothesis : Bitcoin price can be predicted with near accuracy using time series analysis methods.\")\n",
    "print(\"Question   : What is the best way to predict Bitcoin price according to time series analysis?\")"
   ]
  },
  {
   "cell_type": "code",
   "execution_count": 9,
   "id": "212bf83f",
   "metadata": {
    "scrolled": true
   },
   "outputs": [
    {
     "data": {
      "text/html": [
       "<div>\n",
       "<style scoped>\n",
       "    .dataframe tbody tr th:only-of-type {\n",
       "        vertical-align: middle;\n",
       "    }\n",
       "\n",
       "    .dataframe tbody tr th {\n",
       "        vertical-align: top;\n",
       "    }\n",
       "\n",
       "    .dataframe thead th {\n",
       "        text-align: right;\n",
       "    }\n",
       "</style>\n",
       "<table border=\"1\" class=\"dataframe\">\n",
       "  <thead>\n",
       "    <tr style=\"text-align: right;\">\n",
       "      <th></th>\n",
       "      <th>unix</th>\n",
       "      <th>date</th>\n",
       "      <th>symbol</th>\n",
       "      <th>open</th>\n",
       "      <th>high</th>\n",
       "      <th>low</th>\n",
       "      <th>close</th>\n",
       "      <th>Volume BTC</th>\n",
       "      <th>Volume USD</th>\n",
       "    </tr>\n",
       "  </thead>\n",
       "  <tbody>\n",
       "    <tr>\n",
       "      <th>0</th>\n",
       "      <td>1646106180</td>\n",
       "      <td>2022-03-01 03:43:00</td>\n",
       "      <td>BTC/USD</td>\n",
       "      <td>43046.58</td>\n",
       "      <td>43046.58</td>\n",
       "      <td>43046.58</td>\n",
       "      <td>43046.58</td>\n",
       "      <td>0.000000</td>\n",
       "      <td>0.000000</td>\n",
       "    </tr>\n",
       "    <tr>\n",
       "      <th>1</th>\n",
       "      <td>1646106120</td>\n",
       "      <td>2022-03-01 03:42:00</td>\n",
       "      <td>BTC/USD</td>\n",
       "      <td>43046.58</td>\n",
       "      <td>43046.58</td>\n",
       "      <td>43046.58</td>\n",
       "      <td>43046.58</td>\n",
       "      <td>0.000000</td>\n",
       "      <td>0.000000</td>\n",
       "    </tr>\n",
       "    <tr>\n",
       "      <th>2</th>\n",
       "      <td>1646106060</td>\n",
       "      <td>2022-03-01 03:41:00</td>\n",
       "      <td>BTC/USD</td>\n",
       "      <td>43018.23</td>\n",
       "      <td>43046.59</td>\n",
       "      <td>43018.23</td>\n",
       "      <td>43046.58</td>\n",
       "      <td>0.142977</td>\n",
       "      <td>6154.673021</td>\n",
       "    </tr>\n",
       "    <tr>\n",
       "      <th>3</th>\n",
       "      <td>1646106000</td>\n",
       "      <td>2022-03-01 03:40:00</td>\n",
       "      <td>BTC/USD</td>\n",
       "      <td>43022.24</td>\n",
       "      <td>43022.24</td>\n",
       "      <td>43016.03</td>\n",
       "      <td>43016.03</td>\n",
       "      <td>0.009230</td>\n",
       "      <td>397.037957</td>\n",
       "    </tr>\n",
       "    <tr>\n",
       "      <th>4</th>\n",
       "      <td>1646105940</td>\n",
       "      <td>2022-03-01 03:39:00</td>\n",
       "      <td>BTC/USD</td>\n",
       "      <td>43035.16</td>\n",
       "      <td>43035.16</td>\n",
       "      <td>42999.44</td>\n",
       "      <td>42999.44</td>\n",
       "      <td>0.820950</td>\n",
       "      <td>35300.390268</td>\n",
       "    </tr>\n",
       "    <tr>\n",
       "      <th>...</th>\n",
       "      <td>...</td>\n",
       "      <td>...</td>\n",
       "      <td>...</td>\n",
       "      <td>...</td>\n",
       "      <td>...</td>\n",
       "      <td>...</td>\n",
       "      <td>...</td>\n",
       "      <td>...</td>\n",
       "      <td>...</td>\n",
       "    </tr>\n",
       "    <tr>\n",
       "      <th>610778</th>\n",
       "      <td>1609459500</td>\n",
       "      <td>2021-01-01 00:05:00</td>\n",
       "      <td>BTC/USD</td>\n",
       "      <td>29021.86</td>\n",
       "      <td>29023.38</td>\n",
       "      <td>28982.33</td>\n",
       "      <td>28999.50</td>\n",
       "      <td>1.062360</td>\n",
       "      <td>30807.899250</td>\n",
       "    </tr>\n",
       "    <tr>\n",
       "      <th>610779</th>\n",
       "      <td>1609459440</td>\n",
       "      <td>2021-01-01 00:04:00</td>\n",
       "      <td>BTC/USD</td>\n",
       "      <td>29048.13</td>\n",
       "      <td>29057.73</td>\n",
       "      <td>29035.61</td>\n",
       "      <td>29045.19</td>\n",
       "      <td>1.446538</td>\n",
       "      <td>42014.959434</td>\n",
       "    </tr>\n",
       "    <tr>\n",
       "      <th>610780</th>\n",
       "      <td>1609459380</td>\n",
       "      <td>2021-01-01 00:03:00</td>\n",
       "      <td>BTC/USD</td>\n",
       "      <td>29037.68</td>\n",
       "      <td>29069.39</td>\n",
       "      <td>29019.00</td>\n",
       "      <td>29048.13</td>\n",
       "      <td>2.189621</td>\n",
       "      <td>63604.382387</td>\n",
       "    </tr>\n",
       "    <tr>\n",
       "      <th>610781</th>\n",
       "      <td>1609459320</td>\n",
       "      <td>2021-01-01 00:02:00</td>\n",
       "      <td>BTC/USD</td>\n",
       "      <td>29069.80</td>\n",
       "      <td>29073.02</td>\n",
       "      <td>29028.14</td>\n",
       "      <td>29035.89</td>\n",
       "      <td>3.030301</td>\n",
       "      <td>87987.499279</td>\n",
       "    </tr>\n",
       "    <tr>\n",
       "      <th>610782</th>\n",
       "      <td>1609459260</td>\n",
       "      <td>2021-01-01 00:01:00</td>\n",
       "      <td>BTC/USD</td>\n",
       "      <td>29007.31</td>\n",
       "      <td>29086.90</td>\n",
       "      <td>29007.31</td>\n",
       "      <td>29083.47</td>\n",
       "      <td>14.561951</td>\n",
       "      <td>423512.060397</td>\n",
       "    </tr>\n",
       "  </tbody>\n",
       "</table>\n",
       "<p>610783 rows × 9 columns</p>\n",
       "</div>"
      ],
      "text/plain": [
       "              unix                 date   symbol      open      high  \\\n",
       "0       1646106180  2022-03-01 03:43:00  BTC/USD  43046.58  43046.58   \n",
       "1       1646106120  2022-03-01 03:42:00  BTC/USD  43046.58  43046.58   \n",
       "2       1646106060  2022-03-01 03:41:00  BTC/USD  43018.23  43046.59   \n",
       "3       1646106000  2022-03-01 03:40:00  BTC/USD  43022.24  43022.24   \n",
       "4       1646105940  2022-03-01 03:39:00  BTC/USD  43035.16  43035.16   \n",
       "...            ...                  ...      ...       ...       ...   \n",
       "610778  1609459500  2021-01-01 00:05:00  BTC/USD  29021.86  29023.38   \n",
       "610779  1609459440  2021-01-01 00:04:00  BTC/USD  29048.13  29057.73   \n",
       "610780  1609459380  2021-01-01 00:03:00  BTC/USD  29037.68  29069.39   \n",
       "610781  1609459320  2021-01-01 00:02:00  BTC/USD  29069.80  29073.02   \n",
       "610782  1609459260  2021-01-01 00:01:00  BTC/USD  29007.31  29086.90   \n",
       "\n",
       "             low     close  Volume BTC     Volume USD  \n",
       "0       43046.58  43046.58    0.000000       0.000000  \n",
       "1       43046.58  43046.58    0.000000       0.000000  \n",
       "2       43018.23  43046.58    0.142977    6154.673021  \n",
       "3       43016.03  43016.03    0.009230     397.037957  \n",
       "4       42999.44  42999.44    0.820950   35300.390268  \n",
       "...          ...       ...         ...            ...  \n",
       "610778  28982.33  28999.50    1.062360   30807.899250  \n",
       "610779  29035.61  29045.19    1.446538   42014.959434  \n",
       "610780  29019.00  29048.13    2.189621   63604.382387  \n",
       "610781  29028.14  29035.89    3.030301   87987.499279  \n",
       "610782  29007.31  29083.47   14.561951  423512.060397  \n",
       "\n",
       "[610783 rows x 9 columns]"
      ]
     },
     "execution_count": 9,
     "metadata": {},
     "output_type": "execute_result"
    }
   ],
   "source": [
    "df = pd.read_csv('./Desktop/BTC-2021min.csv')\n",
    "df"
   ]
  },
  {
   "cell_type": "code",
   "execution_count": 22,
   "id": "0bc3eda4",
   "metadata": {},
   "outputs": [
    {
     "name": "stdout",
     "output_type": "stream",
     "text": [
      "As can be seen, the data set was collected in the form of one-minute bitcoin prices throughout 2021 and the first 2 months of 2022. Within one minute, the price's open, close, high and low data are recorded. My goal will be to group the data into 1,2 or 4 hours, daily and weekly to find the time period that works best for my algorithm.\n"
     ]
    }
   ],
   "source": [
    "print(\"As can be seen, the data set was collected in the form of one-minute bitcoin prices throughout 2021 and the first 2 months of 2022. Within one minute, the price's open, close, high and low data are recorded. My goal will be to group the data into 1,2 or 4 hours, daily and weekly to find the time period that works best for my algorithm.\")"
   ]
  },
  {
   "cell_type": "code",
   "execution_count": 21,
   "id": "cfd8f382",
   "metadata": {},
   "outputs": [
    {
     "data": {
      "text/html": [
       "<div>\n",
       "<style scoped>\n",
       "    .dataframe tbody tr th:only-of-type {\n",
       "        vertical-align: middle;\n",
       "    }\n",
       "\n",
       "    .dataframe tbody tr th {\n",
       "        vertical-align: top;\n",
       "    }\n",
       "\n",
       "    .dataframe thead th {\n",
       "        text-align: right;\n",
       "    }\n",
       "</style>\n",
       "<table border=\"1\" class=\"dataframe\">\n",
       "  <thead>\n",
       "    <tr style=\"text-align: right;\">\n",
       "      <th></th>\n",
       "      <th>unix</th>\n",
       "      <th>open</th>\n",
       "      <th>high</th>\n",
       "      <th>low</th>\n",
       "      <th>close</th>\n",
       "      <th>Volume BTC</th>\n",
       "      <th>Volume USD</th>\n",
       "    </tr>\n",
       "  </thead>\n",
       "  <tbody>\n",
       "    <tr>\n",
       "      <th>count</th>\n",
       "      <td>6.107830e+05</td>\n",
       "      <td>610783.000000</td>\n",
       "      <td>610783.000000</td>\n",
       "      <td>610783.000000</td>\n",
       "      <td>610783.000000</td>\n",
       "      <td>610783.000000</td>\n",
       "      <td>6.107830e+05</td>\n",
       "    </tr>\n",
       "    <tr>\n",
       "      <th>mean</th>\n",
       "      <td>1.627783e+09</td>\n",
       "      <td>46482.259756</td>\n",
       "      <td>46509.777927</td>\n",
       "      <td>46454.080133</td>\n",
       "      <td>46482.561585</td>\n",
       "      <td>3.165249</td>\n",
       "      <td>1.389471e+05</td>\n",
       "    </tr>\n",
       "    <tr>\n",
       "      <th>std</th>\n",
       "      <td>1.057908e+07</td>\n",
       "      <td>9453.983568</td>\n",
       "      <td>9454.791386</td>\n",
       "      <td>9453.128905</td>\n",
       "      <td>9454.101136</td>\n",
       "      <td>7.893315</td>\n",
       "      <td>3.298066e+05</td>\n",
       "    </tr>\n",
       "    <tr>\n",
       "      <th>min</th>\n",
       "      <td>1.609459e+09</td>\n",
       "      <td>28093.810000</td>\n",
       "      <td>28397.520000</td>\n",
       "      <td>27734.000000</td>\n",
       "      <td>28073.030000</td>\n",
       "      <td>0.000000</td>\n",
       "      <td>0.000000e+00</td>\n",
       "    </tr>\n",
       "    <tr>\n",
       "      <th>25%</th>\n",
       "      <td>1.618621e+09</td>\n",
       "      <td>38129.065000</td>\n",
       "      <td>38157.885000</td>\n",
       "      <td>38099.445000</td>\n",
       "      <td>38129.145000</td>\n",
       "      <td>0.193185</td>\n",
       "      <td>8.859488e+03</td>\n",
       "    </tr>\n",
       "    <tr>\n",
       "      <th>50%</th>\n",
       "      <td>1.627783e+09</td>\n",
       "      <td>46666.950000</td>\n",
       "      <td>46697.740000</td>\n",
       "      <td>46636.680000</td>\n",
       "      <td>46667.290000</td>\n",
       "      <td>0.924965</td>\n",
       "      <td>4.190109e+04</td>\n",
       "    </tr>\n",
       "    <tr>\n",
       "      <th>75%</th>\n",
       "      <td>1.636944e+09</td>\n",
       "      <td>54907.775000</td>\n",
       "      <td>54938.650000</td>\n",
       "      <td>54877.330000</td>\n",
       "      <td>54907.385000</td>\n",
       "      <td>2.989887</td>\n",
       "      <td>1.349339e+05</td>\n",
       "    </tr>\n",
       "    <tr>\n",
       "      <th>max</th>\n",
       "      <td>1.646106e+09</td>\n",
       "      <td>69000.000000</td>\n",
       "      <td>69000.000000</td>\n",
       "      <td>68799.990000</td>\n",
       "      <td>69000.000000</td>\n",
       "      <td>398.565948</td>\n",
       "      <td>1.396792e+07</td>\n",
       "    </tr>\n",
       "  </tbody>\n",
       "</table>\n",
       "</div>"
      ],
      "text/plain": [
       "               unix           open           high            low  \\\n",
       "count  6.107830e+05  610783.000000  610783.000000  610783.000000   \n",
       "mean   1.627783e+09   46482.259756   46509.777927   46454.080133   \n",
       "std    1.057908e+07    9453.983568    9454.791386    9453.128905   \n",
       "min    1.609459e+09   28093.810000   28397.520000   27734.000000   \n",
       "25%    1.618621e+09   38129.065000   38157.885000   38099.445000   \n",
       "50%    1.627783e+09   46666.950000   46697.740000   46636.680000   \n",
       "75%    1.636944e+09   54907.775000   54938.650000   54877.330000   \n",
       "max    1.646106e+09   69000.000000   69000.000000   68799.990000   \n",
       "\n",
       "               close     Volume BTC    Volume USD  \n",
       "count  610783.000000  610783.000000  6.107830e+05  \n",
       "mean    46482.561585       3.165249  1.389471e+05  \n",
       "std      9454.101136       7.893315  3.298066e+05  \n",
       "min     28073.030000       0.000000  0.000000e+00  \n",
       "25%     38129.145000       0.193185  8.859488e+03  \n",
       "50%     46667.290000       0.924965  4.190109e+04  \n",
       "75%     54907.385000       2.989887  1.349339e+05  \n",
       "max     69000.000000     398.565948  1.396792e+07  "
      ]
     },
     "execution_count": 21,
     "metadata": {},
     "output_type": "execute_result"
    }
   ],
   "source": [
    "df.describe()"
   ]
  },
  {
   "cell_type": "code",
   "execution_count": 1,
   "id": "dcb2f569",
   "metadata": {},
   "outputs": [
    {
     "name": "stdout",
     "output_type": "stream",
     "text": [
      "What is ARIMA?\n",
      "AR stands for autoregressive. This means it uses its previous values to predict future values.\n",
      "I stands for integrated, which means it observes the difference between data values in periods to achieve stationary data. Stationary data means there are constant mean and constant variance, and there is no seasonality in data.\n",
      "MA stands for moving average.\n",
      "ARIMA is a form of regression analysis. ARIMA measures the strength of relation between variables.\n",
      "Model predicts future difference between values, not actual values.\n"
     ]
    }
   ],
   "source": [
    "print(\"What is ARIMA?\")\n",
    "print(\"AR stands for autoregressive. This means it uses its previous values to predict future values.\")\n",
    "print(\"I stands for integrated, which means it observes the difference between data values in periods to achieve stationary data. Stationary data means there are constant mean and constant variance, and there is no seasonality in data.\")\n",
    "print(\"MA stands for moving average.\")\n",
    "print(\"ARIMA is a form of regression analysis. ARIMA measures the strength of relation between variables.\")\n",
    "print(\"Model predicts future difference between values, not actual values.\")"
   ]
  },
  {
   "cell_type": "code",
   "execution_count": 3,
   "id": "d0965af5",
   "metadata": {},
   "outputs": [
    {
     "name": "stdout",
     "output_type": "stream",
     "text": [
      "Other methods:\n",
      "SARIMA : It is a method with Seasonality added to ARIMA.\n",
      "ARMA : It is a form of ARIMA without Integrated part.\n",
      "GARCH : It is a model to predict volatility of return on price.\n",
      "VAR : It is a model that captures the linear interdependence among multiple variables.\n"
     ]
    }
   ],
   "source": [
    "print(\"Other methods:\")\n",
    "print(\"SARIMA : It is a method with Seasonality added to ARIMA.It can be used to forecast short-term or long-term trends.\")\n",
    "print(\"ARMA : It is a form of ARIMA without Integrated part.\")\n",
    "print(\"GARCH : It is a model to predict volatility of return on price.\")\n",
    "print(\"VAR : It is a model that captures the linear interdependence among multiple variables.\")"
   ]
  },
  {
   "cell_type": "code",
   "execution_count": 4,
   "id": "49118484",
   "metadata": {},
   "outputs": [
    {
     "name": "stdout",
     "output_type": "stream",
     "text": [
      "If my predictions using the ARIMA model are not at an effective level, I will try to reach a valid level by being able to determine a trend for the price using the SARIMA model. I will not use the ARMA model, as ARIMA is a generalized version of ARMA.\n"
     ]
    }
   ],
   "source": [
    "print(\"If my predictions using the ARIMA model are not at an effective level, I will try to reach a valid level by being able to determine a trend for the price using the SARIMA model. I will not use the ARMA model, as ARIMA is a generalized version of ARMA.\")"
   ]
  },
  {
   "cell_type": "code",
   "execution_count": 8,
   "id": "1d544b58",
   "metadata": {
    "scrolled": true
   },
   "outputs": [
    {
     "name": "stdout",
     "output_type": "stream",
     "text": [
      "CALENDAR\n",
      "16-12-22: Grouping data with higher time frames like 1 hour, 4 hours, 1 day, 1 week.\n",
      "23-12-22: Constructing models and testing. Deciding for the best model.\n",
      "30-12-22: Finishing project with various results, adding a conclusion about what how effective model is and how to do more.\n"
     ]
    }
   ],
   "source": [
    "print(\"CALENDAR\")\n",
    "print(\"16-12-22: Grouping data with higher time frames like 1 hour, 4 hours, 1 day, 1 week.\")\n",
    "print(\"23-12-22: Constructing models and testing. Deciding for the best model.\")\n",
    "print(\"30-12-22: Finishing project with various results, adding a conclusion about what how effective model is and how to do more.\")"
   ]
  },
  {
   "cell_type": "code",
   "execution_count": null,
   "id": "10f3c760",
   "metadata": {},
   "outputs": [],
   "source": []
  }
 ],
 "metadata": {
  "kernelspec": {
   "display_name": "Python 3 (ipykernel)",
   "language": "python",
   "name": "python3"
  },
  "language_info": {
   "codemirror_mode": {
    "name": "ipython",
    "version": 3
   },
   "file_extension": ".py",
   "mimetype": "text/x-python",
   "name": "python",
   "nbconvert_exporter": "python",
   "pygments_lexer": "ipython3",
   "version": "3.9.12"
  }
 },
 "nbformat": 4,
 "nbformat_minor": 5
}
